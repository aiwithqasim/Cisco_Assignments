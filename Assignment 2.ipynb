{
 "cells": [
  {
   "cell_type": "markdown",
   "metadata": {},
   "source": [
    "# Write a program which takes 5 inputs from user for different subject’s marks, total it and generate mark sheet using grades ?"
   ]
  },
  {
   "cell_type": "code",
   "execution_count": 5,
   "metadata": {},
   "outputs": [
    {
     "name": "stdout",
     "output_type": "stream",
     "text": [
      "Enter your math marks:80\n",
      "Enter your urdu marks:80\n",
      "Enter your eng marks:80\n",
      "Enter your physics marks:80\n",
      "Enter your islamiyat marks:45\n",
      "Enter your computer marks:45\n",
      "\n",
      "Welcome to your 'Marksheet'\n",
      "Name= Qasim Hassan\n",
      "\n",
      " Math marks =80\n",
      " Urdu marks =80\n",
      " English marks =80\n",
      " Physics marks =80\n",
      " Computer marks =45\n",
      " Islamiat marks =45\n",
      "\n",
      "# your obtained marks = 410\n",
      "# out of =510\n",
      "# your percentage = 80.3921568627451%\n",
      "# your grade = A+\n",
      "# your performance is 'excellent'\n"
     ]
    }
   ],
   "source": [
    "math=100\n",
    "com=75\n",
    "urdu=100\n",
    "isl=50\n",
    "eng=100\n",
    "phy=85\n",
    "Math=int(input(\"Enter your math marks:\")) # for math subj\n",
    "if Math > 100 or Math < 0:\n",
    "    print(\"error\")\n",
    "Urdu=int(input(\"Enter your urdu marks:\")) # for urdu subj\n",
    "if Urdu > 100 or Urdu <0:\n",
    "    print(\"error\")\n",
    "Eng=int(input(\"Enter your eng marks:\")) # for eng subj\n",
    "if Eng > 100 or Eng < 0:\n",
    "    print(\"error\")\n",
    "Phy=int(input(\"Enter your physics marks:\")) # for phy subj\n",
    "if Phy >85 or Phy <0:\n",
    "    print(\"error\")\n",
    "Isl=int(input(\"Enter your islamiyat marks:\")) # for isl subj\n",
    "if Isl >50 or Isl <0:\n",
    "    print(\"error\")\n",
    "Com=int(input(\"Enter your computer marks:\"))# for com subj\n",
    "if Com >75 or Com <0:\n",
    "        print(\"error\")\n",
    "print()\n",
    "print(\"Welcome to your 'Marksheet'\")\n",
    "print(\"Name= Qasim Hassan\")\n",
    "print()\n",
    "print(\" Math marks =\"+str(Math))\n",
    "print(\" Urdu marks =\"+str(Urdu))\n",
    "print(\" English marks =\"+str(Eng))\n",
    "print(\" Physics marks =\"+str(Phy))\n",
    "print(\" Computer marks =\"+str(Com))\n",
    "print(\" Islamiat marks =\"+str(Isl))\n",
    "print()\n",
    "obt = Math+Urdu+Com+Phy+Eng+Isl\n",
    "print(\"# your obtained marks = \"+str(obt))\n",
    "total=math+urdu+com+phy+isl+eng\n",
    "print(\"# out of =\"+str(total))\n",
    "      \n",
    "percentage = (obt/total*100)\n",
    "print(\"# your percentage = \"+ str(percentage)+\"%\")\n",
    "if percentage >= 80:\n",
    "    print(\"# your grade = A+\")\n",
    "    print(\"# your performance is 'excellent'\")\n",
    "elif percentage >= 70:\n",
    "    print(\"# your grade = A\")\n",
    "    print(\"# your performance is 'very good'\")\n",
    "elif percentage >= 60:\n",
    "    print(\"# your grade = B\")\n",
    "    print(\"# your performance is 'good'\")\n",
    "elif percentage >= 50:\n",
    "    print(\"# your grade = C\")\n",
    "    print(\"# your performance is 'bad'\")\n",
    "elif percentage >= 40:\n",
    "    print(\"# your grade = D\")\n",
    "    print(\"# your performance is 'very bad'\")\n",
    "    \n",
    "else:\n",
    "    print(\"you are not cleared!!!!\")\n",
    "    print(\"you should make an improvement in your failed subjects\")\n"
   ]
  },
  {
   "cell_type": "markdown",
   "metadata": {},
   "source": [
    "# Write a program which take input from user and identify that the given number is even or odd?"
   ]
  },
  {
   "cell_type": "code",
   "execution_count": 4,
   "metadata": {},
   "outputs": [
    {
     "name": "stdout",
     "output_type": "stream",
     "text": [
      "Enter Number 2\n",
      "2.0 is Even\n"
     ]
    }
   ],
   "source": [
    "num = float(input(\"Enter Number \"))\n",
    "if(num%2==0):\n",
    "    print(str(num)+\" is Even\")\n",
    "elif(num%2!=0):\n",
    "    print(str(num)+\" is Odd\")\n",
    "else:\n",
    "    print(\"Enter A Valid Number\")"
   ]
  },
  {
   "cell_type": "markdown",
   "metadata": {},
   "source": [
    "# Write a program which print the length of the list?"
   ]
  },
  {
   "cell_type": "code",
   "execution_count": 6,
   "metadata": {},
   "outputs": [
    {
     "name": "stdout",
     "output_type": "stream",
     "text": [
      "The length of list is:  4\n"
     ]
    }
   ],
   "source": [
    "length =len([10, 20, 30, 50]) \n",
    "print(\"The length of list is: \", length)"
   ]
  },
  {
   "cell_type": "markdown",
   "metadata": {},
   "source": [
    "# Write a Python program to sum all the numeric items in a list?"
   ]
  },
  {
   "cell_type": "code",
   "execution_count": 8,
   "metadata": {},
   "outputs": [
    {
     "name": "stdout",
     "output_type": "stream",
     "text": [
      "25\n"
     ]
    }
   ],
   "source": [
    "no =[1,2,3,4,5,1,4,5]   \n",
    "Add=sum(no) \n",
    "print(Add)"
   ]
  },
  {
   "cell_type": "markdown",
   "metadata": {},
   "source": [
    "# Write a Python program to get the largest number from a numeric list."
   ]
  },
  {
   "cell_type": "code",
   "execution_count": 10,
   "metadata": {},
   "outputs": [
    {
     "name": "stdout",
     "output_type": "stream",
     "text": [
      "Largest element is: 969\n"
     ]
    }
   ],
   "source": [
    "list1 =[210, 220, 0, 405, 969, 512, 562]\n",
    "print(\"Largest element is:\", max(list1))"
   ]
  },
  {
   "cell_type": "markdown",
   "metadata": {},
   "source": [
    "# Take a list, say for example this one:\n",
    "a = [1, 1, 2, 3, 5, 8, 13, 21, 34, 55, 89]\n",
    "and write a program that prints out all the elements of the list that are less than 5."
   ]
  },
  {
   "cell_type": "code",
   "execution_count": 14,
   "metadata": {},
   "outputs": [
    {
     "name": "stdout",
     "output_type": "stream",
     "text": [
      "The list : [1, 1, 2, 3, 5, 8, 13, 21, 34, 55, 89]\n",
      "The numbers less than 5 : 4\n"
     ]
    }
   ],
   "source": [
    "a = [1, 1, 2, 3, 5, 8, 13, 21, 34, 55, 89] \n",
    "n = 5\n",
    "print (\"The list : \" + str(a)) \n",
    "count = len([i for i in a if i < n]) \n",
    "print (\"The numbers less than 5 : \" + str(count))"
   ]
  },
  {
   "cell_type": "code",
   "execution_count": null,
   "metadata": {},
   "outputs": [],
   "source": []
  }
 ],
 "metadata": {
  "kernelspec": {
   "display_name": "Python 3",
   "language": "python",
   "name": "python3"
  },
  "language_info": {
   "codemirror_mode": {
    "name": "ipython",
    "version": 3
   },
   "file_extension": ".py",
   "mimetype": "text/x-python",
   "name": "python",
   "nbconvert_exporter": "python",
   "pygments_lexer": "ipython3",
   "version": "3.7.3"
  }
 },
 "nbformat": 4,
 "nbformat_minor": 2
}
