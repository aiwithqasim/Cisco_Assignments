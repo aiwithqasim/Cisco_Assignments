{
 "cells": [
  {
   "cell_type": "markdown",
   "metadata": {},
   "source": [
    "# Make a calculator using Python with addition , subtraction , multiplication , division and power."
   ]
  },
  {
   "cell_type": "code",
   "execution_count": 7,
   "metadata": {},
   "outputs": [
    {
     "name": "stdout",
     "output_type": "stream",
     "text": [
      "Enter Your First number : 2\n",
      "Enter You Second number : 2\n",
      "Enter Your Operator : +\n",
      "Addition of Two numbers is :  4\n"
     ]
    }
   ],
   "source": [
    "num1 = int(input(\"Enter Your First number : \"))\n",
    "num2 = int(input(\"Enter You Second number : \"))\n",
    "opp = input(\"Enter Your Operator : \")\n",
    "\n",
    "if opp == \"+\":\n",
    "    num= num1 + num2\n",
    "    print(\"Addition of Two numbers is : \",num)\n",
    "    \n",
    "elif opp == \"-\":\n",
    "    num= num1 - num2\n",
    "    print(\"Subtraction of two numbers is : \",num)\n",
    "    \n",
    "elif opp == \"*\":\n",
    "    num = num1 * num2\n",
    "    print(\"Multiplication of two numbers is : \",num)\n",
    "    \n",
    "elif opp == \"/\":\n",
    "    num = num1 / num2\n",
    "    print(\"Division of two numbers is : \",num)\n",
    "    \n",
    "elif opp == \"**\":\n",
    "    num = num1 ** num2\n",
    "    print(\"power of \"+str(num1) +\" into \"+str(num1)+\" times is \"+str(num))\n",
    "\n",
    "else:\n",
    "    print(\"Enter Correct operator\")"
   ]
  },
  {
   "cell_type": "markdown",
   "metadata": {},
   "source": [
    "# Write a program to check if there is any numeric value in list using for loop"
   ]
  },
  {
   "cell_type": "code",
   "execution_count": 9,
   "metadata": {},
   "outputs": [
    {
     "name": "stdout",
     "output_type": "stream",
     "text": [
      "['1', '2', '3', '4']\n"
     ]
    }
   ],
   "source": [
    "list=['1','Qasim','2','Hassan','3','4']\n",
    "for item in list:\n",
    "    mylist =  [s for s in list if s.isdigit()]\n",
    "print(mylist)"
   ]
  },
  {
   "cell_type": "markdown",
   "metadata": {},
   "source": [
    "# Write a Python script to add a key to a dictionary"
   ]
  },
  {
   "cell_type": "code",
   "execution_count": 10,
   "metadata": {},
   "outputs": [
    {
     "name": "stdout",
     "output_type": "stream",
     "text": [
      "{'ID': '028 ', 'Full Name': 'Qasim Hassan', 'Father Name': 'Hassan', 'Salary': '40000'}\n"
     ]
    }
   ],
   "source": [
    "Employee = {\"ID\": \"028 \",\n",
    "            \"Full Name\": \"Qasim Hassan\",\n",
    "            \"Father Name\": \"Hassan\",\n",
    "           }\n",
    "Employee[\"Salary\"] = \"40000\"\n",
    "print(Employee)"
   ]
  },
  {
   "cell_type": "markdown",
   "metadata": {},
   "source": [
    "# Write a Python program to sum all the numeric items in a dictionary"
   ]
  },
  {
   "cell_type": "code",
   "execution_count": 12,
   "metadata": {},
   "outputs": [
    {
     "name": "stdout",
     "output_type": "stream",
     "text": [
      "170\n"
     ]
    }
   ],
   "source": [
    "Data = {'num1':1,'num2':19,'num3':150}\n",
    "print(sum(Data.values()))"
   ]
  },
  {
   "cell_type": "markdown",
   "metadata": {},
   "source": [
    "# Write a program to identify duplicate values from list"
   ]
  },
  {
   "cell_type": "code",
   "execution_count": 27,
   "metadata": {},
   "outputs": [
    {
     "name": "stdout",
     "output_type": "stream",
     "text": [
      "[3, 1, 5]\n"
     ]
    }
   ],
   "source": [
    "Data_check_dup = [ 2, 3, 8, 7, 3, 1, 1, 9, 5, 5, 12, ]\n",
    "dupItems = []\n",
    "uniqItems = {}\n",
    "for x in Data_check_dup:\n",
    "    if x not in uniqItems:\n",
    "        uniqItems[x] = 1\n",
    "    else:\n",
    "        if uniqItems[x] == 1:\n",
    "            dupItems.append(x)\n",
    "            uniqItems[x] += 1\n",
    "print(dupItems)"
   ]
  },
  {
   "cell_type": "markdown",
   "metadata": {},
   "source": [
    "# Write a Python script to check if a given key already exists in a dictionary"
   ]
  },
  {
   "cell_type": "code",
   "execution_count": 31,
   "metadata": {},
   "outputs": [
    {
     "name": "stdout",
     "output_type": "stream",
     "text": [
      "Key is present in the dictionary\n",
      "Key is not present in the dictionary\n"
     ]
    }
   ],
   "source": [
    "list = {1: 5, 2: 10, 3: 15, 4: 20, 5: 25, 6: 30}\n",
    "def check_key(x):\n",
    "    if x in list:\n",
    "          print('Key is present in the dictionary')\n",
    "    else:\n",
    "          print('Key is not present in the dictionary')\n",
    "check_key(5)\n",
    "check_key(17)"
   ]
  },
  {
   "cell_type": "code",
   "execution_count": null,
   "metadata": {},
   "outputs": [],
   "source": []
  }
 ],
 "metadata": {
  "kernelspec": {
   "display_name": "Python 3",
   "language": "python",
   "name": "python3"
  },
  "language_info": {
   "codemirror_mode": {
    "name": "ipython",
    "version": 3
   },
   "file_extension": ".py",
   "mimetype": "text/x-python",
   "name": "python",
   "nbconvert_exporter": "python",
   "pygments_lexer": "ipython3",
   "version": "3.7.3"
  }
 },
 "nbformat": 4,
 "nbformat_minor": 2
}
